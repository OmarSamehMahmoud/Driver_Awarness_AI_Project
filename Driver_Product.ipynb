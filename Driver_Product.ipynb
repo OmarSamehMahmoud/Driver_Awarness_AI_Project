{
  "nbformat": 4,
  "nbformat_minor": 0,
  "metadata": {
    "colab": {
      "name": "Ai_main.ipynb",
      "provenance": []
    },
    "kernelspec": {
      "name": "python3",
      "display_name": "Python 3"
    },
    "language_info": {
      "name": "python"
    }
  },
  "cells": [
    {
      "cell_type": "code",
      "metadata": {
        "colab": {
          "base_uri": "https://localhost:8080/"
        },
        "id": "NI-a_jAqn-1b",
        "outputId": "2ae5688b-a4fa-49d1-b49e-18815df6aa9a"
      },
      "source": [
        "import cv2,numpy as np\n",
        "from tensorflow.keras.models import load_model\n",
        "model=load_model(\"eyes1.h5\")\n",
        "img = cv2.imread('/content/image_open.jpg')\n",
        "img = cv2.resize(img,(224,224))\n",
        "img = np.reshape(img,[1,224,224,3])\n",
        "prediction=model.predict(img/255.0) \n",
        "if prediction[0] > 0.5 :\n",
        " print(\"Open eyes\")\n",
        "else :\n",
        " print(\"Closed eyes\")"
      ],
      "execution_count": 14,
      "outputs": [
        {
          "output_type": "stream",
          "text": [
            "Open eyes\n"
          ],
          "name": "stdout"
        }
      ]
    }
  ]
}