{
  "nbformat": 4,
  "nbformat_minor": 0,
  "metadata": {
    "colab": {
      "name": "Driver_Awareness_NTI_Project.ipynb",
      "provenance": [],
      "collapsed_sections": []
    },
    "kernelspec": {
      "name": "python3",
      "display_name": "Python 3"
    },
    "language_info": {
      "name": "python"
    },
    "accelerator": "GPU"
  },
  "cells": [
    {
      "cell_type": "markdown",
      "metadata": {
        "id": "t9W8PNH35j64"
      },
      "source": [
        "# **Driver Awarness Project**\n",
        "\n",
        "\n",
        "\n"
      ]
    },
    {
      "cell_type": "markdown",
      "metadata": {
        "id": "qjRiSajPHFTv"
      },
      "source": [
        "**Step 1:**\n",
        "1. Installation of kaggle \n",
        "2. Copying of Kaggle.json into kaggle\n",
        "\n",
        "\n"
      ]
    },
    {
      "cell_type": "code",
      "metadata": {
        "id": "29lUEltCTYtK"
      },
      "source": [
        "!pip install -q kaggle\n",
        "\n",
        "!mkdir -p ~/.kaggle\n",
        "!cp kaggle.json ~/.kaggle/\n",
        "\n",
        "# This permissions change avoids a warning on Kaggle tool startup.\n",
        "!chmod 600 ~/.kaggle/kaggle.json"
      ],
      "execution_count": 1,
      "outputs": []
    },
    {
      "cell_type": "markdown",
      "metadata": {
        "id": "xm0kkao-KMGL"
      },
      "source": [
        "**Step** **2:** \n",
        " Making connection with kaggle to import our dataset to project"
      ]
    },
    {
      "cell_type": "code",
      "metadata": {
        "colab": {
          "base_uri": "https://localhost:8080/"
        },
        "id": "M3T0RIIYOkuP",
        "outputId": "fbab2d41-473f-408b-e9ab-068b1b953aea"
      },
      "source": [
        "!kaggle datasets download -d kutaykutlu/drowsiness-detection"
      ],
      "execution_count": 2,
      "outputs": [
        {
          "output_type": "stream",
          "text": [
            "drowsiness-detection.zip: Skipping, found more recently modified local copy (use --force to force download)\n"
          ],
          "name": "stdout"
        }
      ]
    },
    {
      "cell_type": "markdown",
      "metadata": {
        "id": "-XfILE-nHn5Z"
      },
      "source": [
        "**Step 3:** Importing of our Libararies :\n",
        "1.   Import keras model (Sequential)\n",
        "2.   Import keras Layers (Dense,Conv2D,Dropout,MaxPooling2D,Flatten)\n",
        "3.   Import matplotlib to plot our carves\n",
        "4.   Import numpy to make our calculations on our arrays and metrices\n",
        "5.   Import IPython.display to play buzzer sound when driver sleeped\n",
        "6.   Import opencv library cv2 to preprocessing our photo of driver\n",
        "7.   Import zipfile to extract our dataset\n",
        "\n",
        "\n",
        "\n",
        "\n",
        "\n",
        "\n",
        "\n",
        "\n",
        "\n",
        "\n"
      ]
    },
    {
      "cell_type": "code",
      "metadata": {
        "id": "4EUsdJE4MDTX"
      },
      "source": [
        "import keras \n",
        "from keras.preprocessing import image\n",
        "from keras.models import * \n",
        "from keras.layers import * \n",
        "import PIL\n",
        "from keras.preprocessing.image import ImageDataGenerator\n",
        "from keras.utils import np_utils\n",
        "from keras import backend as K\n",
        "import matplotlib.image as mpimg\n",
        "import matplotlib.pyplot as plt\n",
        "%matplotlib inline\n",
        "from matplotlib.image import imread\n",
        "from keras.models import Sequential\n",
        "from keras.layers import Dense,Conv2D,Dropout,MaxPooling2D,Flatten\n",
        "from zipfile import ZipFile \n",
        "import cv2\n",
        "import os\n",
        "import numpy as np\n",
        "from PIL import Image\n",
        "from IPython.display import Audio\n",
        "from scipy.io import wavfile"
      ],
      "execution_count": 3,
      "outputs": []
    },
    {
      "cell_type": "markdown",
      "metadata": {
        "id": "igOOEB9TLZ4V"
      },
      "source": [
        "**Step 4:**\n",
        "Extracting our dataset"
      ]
    },
    {
      "cell_type": "code",
      "metadata": {
        "id": "fInSyLerMVEk"
      },
      "source": [
        "file_name='/content/drowsiness-detection.zip'\n",
        "with ZipFile(file_name,'r') as zip:\n",
        "  zip.extractall()"
      ],
      "execution_count": 4,
      "outputs": []
    },
    {
      "cell_type": "markdown",
      "metadata": {
        "id": "ikKUg0PHLBc1"
      },
      "source": [
        "**Step 5:**\n",
        "Calling of buzzer sound (test.wav) from python pacakages"
      ]
    },
    {
      "cell_type": "code",
      "metadata": {
        "id": "8xw70wVg478n"
      },
      "source": [
        "!cp /usr/local/lib/python3.7/dist-packages/IPython/lib/tests/test.wav ."
      ],
      "execution_count": 5,
      "outputs": []
    },
    {
      "cell_type": "markdown",
      "metadata": {
        "id": "LX_7JAdULolS"
      },
      "source": [
        "**Step 6:** Making an object from audio function"
      ]
    },
    {
      "cell_type": "code",
      "metadata": {
        "id": "fb03Uob65Nnb"
      },
      "source": [
        "sound = Audio('test.wav')"
      ],
      "execution_count": 6,
      "outputs": []
    },
    {
      "cell_type": "markdown",
      "metadata": {
        "id": "bF4kLNsJL5S5"
      },
      "source": [
        "**Step 7:** Making train and test data generation from ImageDataGenerator with validation spliting and rescale train and test data (Normalization)"
      ]
    },
    {
      "cell_type": "code",
      "metadata": {
        "id": "bnKTGt2oPLLT"
      },
      "source": [
        "train_datagen = ImageDataGenerator( \n",
        "        validation_split=0.3,\n",
        "        rescale=1./255.,\n",
        "        horizontal_flip=True)\n",
        "\n",
        "test_datagen = ImageDataGenerator(validation_split=0.3,rescale=1./255.)"
      ],
      "execution_count": 7,
      "outputs": []
    },
    {
      "cell_type": "markdown",
      "metadata": {
        "id": "4PTjrOyQMcTi"
      },
      "source": [
        "**Step 8:** Devolping train and test data :\n",
        "1.   Read from directory of our dataset\n",
        "2.   Set color mode \n",
        "3. Set batch and target size (Dimensions of photos)\n",
        "4. Set class mode (binary)\n",
        "\n",
        "\n"
      ]
    },
    {
      "cell_type": "code",
      "metadata": {
        "colab": {
          "base_uri": "https://localhost:8080/"
        },
        "id": "Go2jc2AERlcZ",
        "outputId": "ac4d4c1a-3065-4de5-ac31-966f659cb5fd"
      },
      "source": [
        "training_set = train_datagen.flow_from_directory(\n",
        "        r'/content/drowsiness-detection',\n",
        "        color_mode = 'rgb',\n",
        "        target_size=(224,224),\n",
        "        batch_size=100,\n",
        "        class_mode='binary', shuffle=True)\n",
        "\n",
        "test_set = test_datagen.flow_from_directory(\n",
        "        r'/content/drowsiness-detection',\n",
        "        color_mode = 'rgb',\n",
        "        target_size=(224,224),\n",
        "        batch_size=100,\n",
        "        class_mode='binary', shuffle=True)\n"
      ],
      "execution_count": 8,
      "outputs": [
        {
          "output_type": "stream",
          "text": [
            "Found 48000 images belonging to 2 classes.\n",
            "Found 48000 images belonging to 2 classes.\n"
          ],
          "name": "stdout"
        }
      ]
    },
    {
      "cell_type": "markdown",
      "metadata": {
        "id": "E6r_Rh2pNWJk"
      },
      "source": [
        "**Step 9:** Buliding our model\n",
        "1.   Set our model (sequential).\n",
        "2.   Add convulotion 2D layer with **input_shape** ***(for first time only)*** .\n",
        "3. Add activation function (relu) to make negative feature values = zero.\n",
        "4. Add Max Pooling for select maximum feature from feature map.\n",
        "5. Add Flatten to convert features to vector to allow it to fully connected layers.\n",
        "6. Add output layer with activation layer(sigmoid).\n",
        "\n"
      ]
    },
    {
      "cell_type": "code",
      "metadata": {
        "id": "apxaOFMdR_0f"
      },
      "source": [
        "model = Sequential()\n",
        "model.add(Conv2D(32, (3, 3), input_shape=(224,224,3)))\n",
        "model.add(Activation('relu'))\n",
        "model.add(MaxPooling2D(pool_size=(2, 2)))\n",
        "\n",
        "model.add(Conv2D(64, (3, 3)))\n",
        "model.add(Activation('relu'))\n",
        "model.add(MaxPooling2D(pool_size=(2, 2)))\n",
        "\n",
        "model.add(Flatten())\n",
        "model.add(Dense(64))\n",
        "model.add(Activation('relu'))\n",
        "model.add(Dropout(0.2))\n",
        "model.add(Dense(1))\n",
        "model.add(Activation('sigmoid'))"
      ],
      "execution_count": 9,
      "outputs": []
    },
    {
      "cell_type": "markdown",
      "metadata": {
        "id": "bsZPXaN4RPur"
      },
      "source": [
        "**Step 10:** Compile our model with :\n",
        "1.   Set optimizer\n",
        "2.   Set metrics (accuarcy)\n",
        "\n"
      ]
    },
    {
      "cell_type": "code",
      "metadata": {
        "id": "v_iB6NuCREAQ"
      },
      "source": [
        "model.compile(loss='binary_crossentropy',\n",
        "              optimizer='rmsprop',\n",
        "              metrics=['accuracy'])"
      ],
      "execution_count": 10,
      "outputs": []
    },
    {
      "cell_type": "markdown",
      "metadata": {
        "id": "ohwFrr9AWWPs"
      },
      "source": [
        "**Step 11:** Check our calsses alocated numbers alocate :"
      ]
    },
    {
      "cell_type": "code",
      "metadata": {
        "colab": {
          "base_uri": "https://localhost:8080/"
        },
        "id": "5ebcBKZOSKGw",
        "outputId": "23fa22be-75a6-49cc-d48d-cf551f0b7ffd"
      },
      "source": [
        "print(training_set.class_indices)"
      ],
      "execution_count": 11,
      "outputs": [
        {
          "output_type": "stream",
          "text": [
            "{'closed_eye': 0, 'open_eye': 1}\n"
          ],
          "name": "stdout"
        }
      ]
    },
    {
      "cell_type": "markdown",
      "metadata": {
        "id": "JdG-aC1hWoux"
      },
      "source": [
        "**Step 12:** Make Summary of our model :"
      ]
    },
    {
      "cell_type": "code",
      "metadata": {
        "colab": {
          "base_uri": "https://localhost:8080/"
        },
        "id": "ByPQgreCSM76",
        "outputId": "79fbb781-9deb-4114-9608-f2d0e595ee97"
      },
      "source": [
        "model.summary()"
      ],
      "execution_count": 12,
      "outputs": [
        {
          "output_type": "stream",
          "text": [
            "Model: \"sequential\"\n",
            "_________________________________________________________________\n",
            "Layer (type)                 Output Shape              Param #   \n",
            "=================================================================\n",
            "conv2d (Conv2D)              (None, 222, 222, 32)      896       \n",
            "_________________________________________________________________\n",
            "activation (Activation)      (None, 222, 222, 32)      0         \n",
            "_________________________________________________________________\n",
            "max_pooling2d (MaxPooling2D) (None, 111, 111, 32)      0         \n",
            "_________________________________________________________________\n",
            "conv2d_1 (Conv2D)            (None, 109, 109, 64)      18496     \n",
            "_________________________________________________________________\n",
            "activation_1 (Activation)    (None, 109, 109, 64)      0         \n",
            "_________________________________________________________________\n",
            "max_pooling2d_1 (MaxPooling2 (None, 54, 54, 64)        0         \n",
            "_________________________________________________________________\n",
            "flatten (Flatten)            (None, 186624)            0         \n",
            "_________________________________________________________________\n",
            "dense (Dense)                (None, 64)                11944000  \n",
            "_________________________________________________________________\n",
            "activation_2 (Activation)    (None, 64)                0         \n",
            "_________________________________________________________________\n",
            "dropout (Dropout)            (None, 64)                0         \n",
            "_________________________________________________________________\n",
            "dense_1 (Dense)              (None, 1)                 65        \n",
            "_________________________________________________________________\n",
            "activation_3 (Activation)    (None, 1)                 0         \n",
            "=================================================================\n",
            "Total params: 11,963,457\n",
            "Trainable params: 11,963,457\n",
            "Non-trainable params: 0\n",
            "_________________________________________________________________\n"
          ],
          "name": "stdout"
        }
      ]
    },
    {
      "cell_type": "markdown",
      "metadata": {
        "id": "-1GBT4q8Aes6"
      },
      "source": [
        "**Step 13:** Making train of our model\n",
        "1. Import training set\n",
        "2. Make epochs = 20 to detect all samples\n",
        "3. Import validation data\n",
        "4. Make batch_size = 100 and validation step = 1"
      ]
    },
    {
      "cell_type": "code",
      "metadata": {
        "colab": {
          "base_uri": "https://localhost:8080/"
        },
        "id": "XlS80TPuSSx2",
        "outputId": "f55a30f2-32ec-4b87-9831-7d9b69c1a74a"
      },
      "source": [
        "results=model.fit( \n",
        "    training_set,\n",
        "    batch_size=100,  \n",
        "    epochs=20,\n",
        "    validation_data=test_set,\n",
        "    validation_steps=1\n",
        ")"
      ],
      "execution_count": 13,
      "outputs": [
        {
          "output_type": "stream",
          "text": [
            "Epoch 1/20\n",
            "480/480 [==============================] - 134s 213ms/step - loss: 0.3842 - accuracy: 0.8544 - val_loss: 0.1471 - val_accuracy: 0.9500\n",
            "Epoch 2/20\n",
            "480/480 [==============================] - 103s 214ms/step - loss: 0.1572 - accuracy: 0.9447 - val_loss: 0.1846 - val_accuracy: 0.9500\n",
            "Epoch 3/20\n",
            "480/480 [==============================] - 103s 214ms/step - loss: 0.1237 - accuracy: 0.9612 - val_loss: 0.0534 - val_accuracy: 0.9800\n",
            "Epoch 4/20\n",
            "480/480 [==============================] - 103s 214ms/step - loss: 0.0982 - accuracy: 0.9667 - val_loss: 0.0327 - val_accuracy: 0.9800\n",
            "Epoch 5/20\n",
            "480/480 [==============================] - 103s 214ms/step - loss: 0.0876 - accuracy: 0.9707 - val_loss: 0.1247 - val_accuracy: 0.9500\n",
            "Epoch 6/20\n",
            "480/480 [==============================] - 103s 214ms/step - loss: 0.0817 - accuracy: 0.9741 - val_loss: 0.0573 - val_accuracy: 0.9700\n",
            "Epoch 7/20\n",
            "480/480 [==============================] - 103s 214ms/step - loss: 0.0735 - accuracy: 0.9769 - val_loss: 0.0276 - val_accuracy: 0.9900\n",
            "Epoch 8/20\n",
            "480/480 [==============================] - 102s 213ms/step - loss: 0.0675 - accuracy: 0.9789 - val_loss: 0.0645 - val_accuracy: 0.9700\n",
            "Epoch 9/20\n",
            "480/480 [==============================] - 102s 213ms/step - loss: 0.0699 - accuracy: 0.9805 - val_loss: 0.0201 - val_accuracy: 0.9900\n",
            "Epoch 10/20\n",
            "480/480 [==============================] - 102s 213ms/step - loss: 0.0603 - accuracy: 0.9818 - val_loss: 0.0265 - val_accuracy: 0.9900\n",
            "Epoch 11/20\n",
            "480/480 [==============================] - 102s 213ms/step - loss: 0.0624 - accuracy: 0.9819 - val_loss: 0.0911 - val_accuracy: 0.9900\n",
            "Epoch 12/20\n",
            "480/480 [==============================] - 103s 213ms/step - loss: 0.0617 - accuracy: 0.9825 - val_loss: 0.0449 - val_accuracy: 0.9900\n",
            "Epoch 13/20\n",
            "480/480 [==============================] - 102s 213ms/step - loss: 0.0689 - accuracy: 0.9831 - val_loss: 0.0464 - val_accuracy: 0.9900\n",
            "Epoch 14/20\n",
            "480/480 [==============================] - 102s 213ms/step - loss: 0.0746 - accuracy: 0.9835 - val_loss: 0.0691 - val_accuracy: 0.9500\n",
            "Epoch 15/20\n",
            "480/480 [==============================] - 102s 213ms/step - loss: 0.0495 - accuracy: 0.9845 - val_loss: 0.0624 - val_accuracy: 0.9700\n",
            "Epoch 16/20\n",
            "480/480 [==============================] - 102s 213ms/step - loss: 0.0487 - accuracy: 0.9851 - val_loss: 0.0069 - val_accuracy: 1.0000\n",
            "Epoch 17/20\n",
            "480/480 [==============================] - 102s 212ms/step - loss: 0.0477 - accuracy: 0.9861 - val_loss: 0.0077 - val_accuracy: 1.0000\n",
            "Epoch 18/20\n",
            "480/480 [==============================] - 102s 213ms/step - loss: 0.0518 - accuracy: 0.9858 - val_loss: 0.0243 - val_accuracy: 0.9900\n",
            "Epoch 19/20\n",
            "480/480 [==============================] - 102s 213ms/step - loss: 0.0488 - accuracy: 0.9860 - val_loss: 0.0080 - val_accuracy: 1.0000\n",
            "Epoch 20/20\n",
            "480/480 [==============================] - 102s 213ms/step - loss: 0.0463 - accuracy: 0.9875 - val_loss: 0.0053 - val_accuracy: 1.0000\n"
          ],
          "name": "stdout"
        }
      ]
    },
    {
      "cell_type": "markdown",
      "metadata": {
        "id": "D43LqJ0SXb74"
      },
      "source": [
        "**Step 14:** Saving our model :"
      ]
    },
    {
      "cell_type": "code",
      "metadata": {
        "id": "gi6zv8F8Um9s"
      },
      "source": [
        "model.save(\"eyes1.h5\")"
      ],
      "execution_count": 14,
      "outputs": []
    },
    {
      "cell_type": "markdown",
      "metadata": {
        "id": "LkNqMynWXsDg"
      },
      "source": [
        "**Step 15:** Plot Training and Validation losses :"
      ]
    },
    {
      "cell_type": "code",
      "metadata": {
        "id": "EUK3yM5QUplT",
        "colab": {
          "base_uri": "https://localhost:8080/",
          "height": 311
        },
        "outputId": "57bd7694-edae-4151-f0dd-518091743d03"
      },
      "source": [
        "plt.plot(results.history['loss'])\n",
        "plt.plot(results.history['val_loss'])\n",
        "plt.legend(['Training', 'Validation'])\n",
        "plt.title('Training and Validation losses')\n",
        "plt.xlabel('epoch')\n",
        "plt.ylim(0, 1)\n"
      ],
      "execution_count": 15,
      "outputs": [
        {
          "output_type": "execute_result",
          "data": {
            "text/plain": [
              "(0.0, 1.0)"
            ]
          },
          "metadata": {},
          "execution_count": 15
        },
        {
          "output_type": "display_data",
          "data": {
            "image/png": "[encoded data removed]",
            "text/plain": [
              "<Figure size 432x288 with 1 Axes>"
            ]
          },
          "metadata": {
            "needs_background": "light"
          }
        }
      ]
    },
    {
      "cell_type": "markdown",
      "metadata": {
        "id": "PQdEGVNwX5rn"
      },
      "source": [
        "**Step 16:** Training and Validation accuracy :"
      ]
    },
    {
      "cell_type": "code",
      "metadata": {
        "id": "meriUFU2Uth5",
        "colab": {
          "base_uri": "https://localhost:8080/",
          "height": 311
        },
        "outputId": "b7b356c5-ac8e-4d55-8e60-7c2e7f242937"
      },
      "source": [
        "plt.plot(results.history['accuracy'])\n",
        "plt.plot(results.history['val_accuracy'])\n",
        "plt.legend(['Training', 'Validation'])\n",
        "plt.title('Training and Validation accuracy')\n",
        "plt.xlabel('epoch')\n",
        "plt.ylim(0, 1)\n"
      ],
      "execution_count": 16,
      "outputs": [
        {
          "output_type": "execute_result",
          "data": {
            "text/plain": [
              "(0.0, 1.0)"
            ]
          },
          "metadata": {},
          "execution_count": 16
        },
        {
          "output_type": "display_data",
          "data": {
            "image/png": "[encoded data removed]",
            "text/plain": [
              "<Figure size 432x288 with 1 Axes>"
            ]
          },
          "metadata": {
            "needs_background": "light"
          }
        }
      ]
    },
    {
      "cell_type": "markdown",
      "metadata": {
        "id": "v5gOBPuFqeo9"
      },
      "source": [
        "**Step 17:** Import Camera Library"
      ]
    },
    {
      "cell_type": "code",
      "metadata": {
        "id": "toHAhTbwxPy7"
      },
      "source": [
        "from IPython.display import display, Javascript\n",
        "from google.colab.output import eval_js\n",
        "from base64 import b64decode\n",
        "\n",
        "def take_photo(filename='image.jpg', quality=0.8):\n",
        "  js = Javascript('''\n",
        "    async function takePhoto(quality) {\n",
        "      const div = document.createElement('div');\n",
        "      const capture = document.createElement('button');\n",
        "      capture.textContent = 'Capture';\n",
        "      div.appendChild(capture);\n",
        "\n",
        "      const video = document.createElement('video');\n",
        "      video.style.display = 'block';\n",
        "      const stream = await navigator.mediaDevices.getUserMedia({video: true});\n",
        "\n",
        "      document.body.appendChild(div);\n",
        "      div.appendChild(video);\n",
        "      video.srcObject = stream;\n",
        "      await video.play();\n",
        "\n",
        "      // Resize the output to fit the video element.\n",
        "      google.colab.output.setIframeHeight(document.documentElement.scrollHeight, true);\n",
        "\n",
        "      // Wait for Capture to be clicked.\n",
        "      await new Promise((resolve) => capture.onclick = resolve);\n",
        "\n",
        "      const canvas = document.createElement('canvas');\n",
        "      canvas.width = video.videoWidth;\n",
        "      canvas.height = video.videoHeight;\n",
        "      canvas.getContext('2d').drawImage(video, 0, 0);\n",
        "      stream.getVideoTracks()[0].stop();\n",
        "      div.remove();\n",
        "      return canvas.toDataURL('image/jpeg', quality);\n",
        "    }\n",
        "    ''')\n",
        "  display(js)\n",
        "  data = eval_js('takePhoto({})'.format(quality))\n",
        "  binary = b64decode(data.split(',')[1])\n",
        "  with open(filename, 'wb') as f:\n",
        "    f.write(binary)\n",
        "  return filename\n"
      ],
      "execution_count": 17,
      "outputs": []
    },
    {
      "cell_type": "markdown",
      "metadata": {
        "id": "dmEn3whsqmkw"
      },
      "source": [
        "**Step 18:** Activate Webcam and Take picture"
      ]
    },
    {
      "cell_type": "code",
      "metadata": {
        "id": "r1q7wpYzd1K-"
      },
      "source": [
        "from IPython.display import Image\n",
        "try:\n",
        "  filename = take_photo()\n",
        "  print('Saved to {}'.format(filename))\n",
        "  \n",
        "  # Show the image which was just taken.\n",
        "  display(Image(filename))\n",
        "except Exception as err:\n",
        "  # Errors will be thrown if the user does not have a webcam or if they do not\n",
        "  # grant the page permission to access it.\n",
        "  print(str(err))"
      ],
      "execution_count": null,
      "outputs": []
    },
    {
      "cell_type": "markdown",
      "metadata": {
        "id": "KCEuTvDWX_wt"
      },
      "source": [
        "**Step 19:** Prediction of Image :"
      ]
    },
    {
      "cell_type": "code",
      "metadata": {
        "id": "cvz3jgoxU2iX",
        "colab": {
          "base_uri": "https://localhost:8080/"
        },
        "outputId": "2a167bec-1dfe-498e-c61d-35516dde7f9a"
      },
      "source": [
        "img = cv2.imread('/content/detect_closed_eyes.jpg')\n",
        "#img = cv2.imread('/content/detect_closed_sunglasses.jpg')\n",
        "#img = cv2.imread('/content/detect_open_eyes.jpg')\n",
        "#img = cv2.imread('/content/detect_open_sunglasses.jpg')\n",
        "\n",
        "img = cv2.resize(img,(224,224))\n",
        "img = np.reshape(img,[1,224,224,3])\n",
        "\n",
        "prediction=model.predict(img/255.0) \n",
        "if prediction[0] > 0.5 :\n",
        " print(prediction[0])\n",
        " print(\"Open eyes\")\n",
        "else :\n",
        " print(prediction[0])\n",
        " print(\"Closed eyes\")\n",
        " sound"
      ],
      "execution_count": 26,
      "outputs": [
        {
          "output_type": "stream",
          "text": [
            "[0.03985627]\n",
            "Closed eyes\n"
          ],
          "name": "stdout"
        }
      ]
    }
  ]
}